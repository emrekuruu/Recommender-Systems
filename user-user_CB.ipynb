{
 "cells": [
  {
   "cell_type": "markdown",
   "id": "548ae339-6631-4dc9-a786-1046cae99714",
   "metadata": {},
   "source": [
    "# This is a Movie Recommender System ( For practice Use Only ) "
   ]
  },
  {
   "cell_type": "code",
   "execution_count": null,
   "id": "22bd5162-b183-4fbb-9c29-5bbb5ce6a00e",
   "metadata": {},
   "outputs": [],
   "source": [
    "import pandas as pd\n",
    "import numpy as np"
   ]
  },
  {
   "cell_type": "markdown",
   "id": "efe7cbc9-edea-4165-8570-ea401a4b4ed4",
   "metadata": {},
   "source": [
    "__Loading in the data frames__"
   ]
  },
  {
   "cell_type": "code",
   "execution_count": null,
   "id": "8dd7e005-fe61-4e70-9bec-3d4903cf0bd8",
   "metadata": {},
   "outputs": [],
   "source": [
    "user_ratings_df = pd.read_csv(\"user.csv\")\n",
    "\n",
    "\n",
    "user_ids = user_ratings_df[\"Unnamed: 0\"]\n",
    "\n",
    "movie_correls_df = user_ratings_df.drop(\"Unnamed: 0\",axis = 1).corr()\n"
   ]
  },
  {
   "cell_type": "code",
   "execution_count": null,
   "id": "3057512f-1e5a-4666-9d4c-0d9c7b9e7c72",
   "metadata": {},
   "outputs": [],
   "source": [
    "movie_ratings_df = pd.read_csv(\"movie.csv\")\n",
    "movie_ids = movie_ratings_df[\"Unnamed: 0\"]\n",
    "\n",
    "new_movie_df = movie_ratings_df.drop(101,axis = 0)\n",
    "new_movie_df.drop(100,axis = 0,inplace = True)\n",
    "new_movie_df\n",
    "\n",
    "user_correls_df = new_movie_df.drop(\"Unnamed: 0\",axis = 1).corr()"
   ]
  },
  {
   "cell_type": "markdown",
   "id": "dcb970be-c5c8-4a35-9f4d-dd93873ff80a",
   "metadata": {},
   "source": [
    "*Every Method I Used*"
   ]
  },
  {
   "cell_type": "code",
   "execution_count": null,
   "id": "0e20e3c2-a5a5-45e9-9bd0-45c4d349c156",
   "metadata": {},
   "outputs": [],
   "source": [
    "def correl(user1,user2):\n",
    "    return user_correls_df[user1][user2]\n",
    "\n",
    "def usersContribution(main,other):\n",
    "    return movie_ratings_df[other][0:101]*correl(main,other)\n",
    "\n",
    "def getTopN(column,k):\n",
    "    temp_df = user_correls_df.nlargest(k,columns = column)\n",
    "    return temp_df[1:k]\n",
    "\n",
    "def correlsOfContributingUsers(main,k):\n",
    "    indexes = getTopN(main,k).index\n",
    "    \n",
    "    correls = []\n",
    "    \n",
    "    for user in indexes:\n",
    "            temp = []\n",
    "            contributions = usersContribution(main,user).fillna(0)\n",
    "            for rating in contributions:\n",
    "                if rating == 0:\n",
    "                    temp.append(0)\n",
    "                else:\n",
    "                    temp.append(correl(user,main))\n",
    "                    \n",
    "            correls.append(temp)\n",
    "            \n",
    "    correls = pd.DataFrame(np.asarray(correls))\n",
    "    return correls.sum(axis = 0)[0:100]\n",
    "        \n",
    "\n",
    "def sumOfContributions(main,k):\n",
    "    indexes = getTopN(main,k).index\n",
    "    \n",
    "    weightOfUsers = []\n",
    "    \n",
    "    for user in indexes:\n",
    "        weightOfUsers.append(usersContribution(main,user))\n",
    "        \n",
    "    weightOfUsers = pd.DataFrame(np.asarray(weightOfUsers),index = indexes,columns = movie_ids[0:101]).fillna(0)\n",
    "    return weightOfUsers.sum(axis = 0)[0:100]"
   ]
  },
  {
   "cell_type": "markdown",
   "id": "17b958eb-9127-4bcf-bd45-0a4320dc7265",
   "metadata": {},
   "source": [
    "*GET N NEIGHBORS OF A USER*"
   ]
  },
  {
   "cell_type": "code",
   "execution_count": 373,
   "id": "888e8c3b-7897-4cc5-bcfc-591473a9f361",
   "metadata": {},
   "outputs": [
    {
     "data": {
      "text/plain": [
       "Unnamed: 0\n",
       "1891: Star Wars: Episode V - The Empire Strikes Back (1980)    4.760291\n",
       "155: The Dark Knight (2008)                                    4.551454\n",
       "122: The Lord of the Rings: The Return of the King (2003)      4.507637\n",
       "77: Memento (2000)                                             4.472487\n",
       "121: The Lord of the Rings: The Two Towers (2002)              4.400194\n",
       "                                                                 ...   \n",
       "3049: Ace Ventura: Pet Detective (1994)                        1.814717\n",
       "8467: Dumb & Dumber (1994)                                     1.813320\n",
       "9331: Clear and Present Danger (1994)                          1.801453\n",
       "672: Harry Potter and the Chamber of Secrets (2002)            1.801453\n",
       "4327: Charlie's Angels (2000)                                  1.439808\n",
       "Name: Predictions, Length: 100, dtype: float64"
      ]
     },
     "execution_count": 373,
     "metadata": {},
     "output_type": "execute_result"
    }
   ],
   "source": [
    "up = sumOfContributions(\"3867\",6)\n",
    "down = correlsOfContributingUsers(\"3867\",6)\n",
    "\n",
    "predictions = pd.DataFrame(up.values/down.values,index = movie_ids[0:100],columns = [\"Predictions\"])\n",
    "predictions[\"Predictions\"].sort_values(ascending = False)"
   ]
  },
  {
   "cell_type": "code",
   "execution_count": null,
   "id": "b2b98a83-851a-41eb-be14-5a20d881fa91",
   "metadata": {},
   "outputs": [],
   "source": []
  }
 ],
 "metadata": {
  "kernelspec": {
   "display_name": "Python 3 (ipykernel)",
   "language": "python",
   "name": "python3"
  },
  "language_info": {
   "codemirror_mode": {
    "name": "ipython",
    "version": 3
   },
   "file_extension": ".py",
   "mimetype": "text/x-python",
   "name": "python",
   "nbconvert_exporter": "python",
   "pygments_lexer": "ipython3",
   "version": "3.10.6"
  }
 },
 "nbformat": 4,
 "nbformat_minor": 5
}
