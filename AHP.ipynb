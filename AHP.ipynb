{
 "cells": [
  {
   "cell_type": "markdown",
   "id": "9f5094bf-9784-4a1a-9152-7c155ef202c0",
   "metadata": {},
   "source": [
    "# AHP - ANALYTIC HIERARCHY PROCESS"
   ]
  },
  {
   "cell_type": "code",
   "execution_count": 1,
   "id": "48f8153f-075e-4e38-b38c-bab9eafdc938",
   "metadata": {
    "tags": []
   },
   "outputs": [],
   "source": [
    "import pandas as pd\n",
    "import numpy as np"
   ]
  },
  {
   "cell_type": "code",
   "execution_count": 2,
   "id": "9d77afe7-f7f5-4151-8897-d68a49e31bd6",
   "metadata": {},
   "outputs": [],
   "source": [
    "Criterias = [\"Style\",\"Reliability\",\"Fuel Economy\"]"
   ]
  },
  {
   "cell_type": "markdown",
   "id": "554b3dfb-618c-4e52-a3bf-3c9c776e3afc",
   "metadata": {},
   "source": [
    "# Inıtalize the Criteria Matrix"
   ]
  },
  {
   "cell_type": "code",
   "execution_count": 3,
   "id": "0ffa4306-d77c-46d3-b807-31755a8fb97a",
   "metadata": {},
   "outputs": [
    {
     "data": {
      "text/html": [
       "<div>\n",
       "<style scoped>\n",
       "    .dataframe tbody tr th:only-of-type {\n",
       "        vertical-align: middle;\n",
       "    }\n",
       "\n",
       "    .dataframe tbody tr th {\n",
       "        vertical-align: top;\n",
       "    }\n",
       "\n",
       "    .dataframe thead th {\n",
       "        text-align: right;\n",
       "    }\n",
       "</style>\n",
       "<table border=\"1\" class=\"dataframe\">\n",
       "  <thead>\n",
       "    <tr style=\"text-align: right;\">\n",
       "      <th></th>\n",
       "      <th>Style</th>\n",
       "      <th>Reliability</th>\n",
       "      <th>Fuel Economy</th>\n",
       "    </tr>\n",
       "  </thead>\n",
       "  <tbody>\n",
       "    <tr>\n",
       "      <th>Style</th>\n",
       "      <td>1.0</td>\n",
       "      <td>0.5</td>\n",
       "      <td>3.0</td>\n",
       "    </tr>\n",
       "    <tr>\n",
       "      <th>Reliability</th>\n",
       "      <td>2.0</td>\n",
       "      <td>1.0</td>\n",
       "      <td>4.0</td>\n",
       "    </tr>\n",
       "    <tr>\n",
       "      <th>Fuel Economy</th>\n",
       "      <td>0.333333</td>\n",
       "      <td>0.25</td>\n",
       "      <td>1.0</td>\n",
       "    </tr>\n",
       "  </tbody>\n",
       "</table>\n",
       "</div>"
      ],
      "text/plain": [
       "                 Style Reliability Fuel Economy\n",
       "Style              1.0         0.5          3.0\n",
       "Reliability        2.0         1.0          4.0\n",
       "Fuel Economy  0.333333        0.25          1.0"
      ]
     },
     "execution_count": 3,
     "metadata": {},
     "output_type": "execute_result"
    }
   ],
   "source": [
    "criteria_df = pd.DataFrame([],index = Criterias, columns = Criterias)\n",
    "criteria_df.iloc[0,0] = 1.0\n",
    "criteria_df.iloc[1,1] = 1.0\n",
    "criteria_df.iloc[2,2] = 1.0\n",
    "criteria_df.iloc[0,1] = 1/2\n",
    "criteria_df.iloc[0,2] = 3.0\n",
    "criteria_df.iloc[1,0] = 2.0\n",
    "criteria_df.iloc[1,2] = 4.0\n",
    "criteria_df.iloc[2,0] = 1/3\n",
    "criteria_df.iloc[2,1] = 1/4\n",
    "criteria_df"
   ]
  },
  {
   "cell_type": "markdown",
   "id": "6a7ba41d-4cec-4c3b-9f36-d99ba50f2fc6",
   "metadata": {},
   "source": [
    "# Get the Eigenvector of the Matrix"
   ]
  },
  {
   "cell_type": "code",
   "execution_count": 4,
   "id": "a42a7c44-b420-4058-bc38-e497eb73bd5a",
   "metadata": {},
   "outputs": [],
   "source": [
    "#This Method returns the Eigenvector of the given Matrix\n",
    "def Eigenvector(matrix):\n",
    "    matrix_power_2 = np.linalg.matrix_power(matrix,2)\n",
    "    row_sums = matrix_power_2.sum(axis = 1,keepdims = True,dtype = float)\n",
    "    divider = row_sums.sum(axis = 0,keepdims = True,dtype = float)\n",
    "    return row_sums/divider,matrix_power_2"
   ]
  },
  {
   "cell_type": "code",
   "execution_count": 5,
   "id": "67a6edd9-1680-40e9-bb42-8cce392897d6",
   "metadata": {},
   "outputs": [],
   "source": [
    "# This method returns the difference between the old and the new Eigenvector. Recursively keeps going until their differences reach a VERY small value\n",
    "def Process(old_Vector,old_Matrix):\n",
    "        new_Vector,new_Matrix = Eigenvector(old_Matrix)\n",
    "        difference = new_Vector-old_Vector\n",
    "        difference = np.asarray(difference,dtype = float)\n",
    "        if( (difference.sum(axis = 0)) < 0.00000000005 ):\n",
    "            return new_Vector\n",
    "        else:\n",
    "            Process(new_Vector,new_Matrix)"
   ]
  },
  {
   "cell_type": "markdown",
   "id": "872fd31d-22c0-4827-a187-7a58b34c791d",
   "metadata": {},
   "source": [
    "# Importance of criteria"
   ]
  },
  {
   "cell_type": "code",
   "execution_count": 6,
   "id": "ac6dac48-a806-4b24-bc4f-d4506bf12153",
   "metadata": {},
   "outputs": [
    {
     "data": {
      "text/html": [
       "<div>\n",
       "<style scoped>\n",
       "    .dataframe tbody tr th:only-of-type {\n",
       "        vertical-align: middle;\n",
       "    }\n",
       "\n",
       "    .dataframe tbody tr th {\n",
       "        vertical-align: top;\n",
       "    }\n",
       "\n",
       "    .dataframe thead th {\n",
       "        text-align: right;\n",
       "    }\n",
       "</style>\n",
       "<table border=\"1\" class=\"dataframe\">\n",
       "  <thead>\n",
       "    <tr style=\"text-align: right;\">\n",
       "      <th></th>\n",
       "      <th>0</th>\n",
       "    </tr>\n",
       "  </thead>\n",
       "  <tbody>\n",
       "    <tr>\n",
       "      <th>Style</th>\n",
       "      <td>0.3196</td>\n",
       "    </tr>\n",
       "    <tr>\n",
       "      <th>Reliability</th>\n",
       "      <td>0.5584</td>\n",
       "    </tr>\n",
       "    <tr>\n",
       "      <th>Fuel Economy</th>\n",
       "      <td>0.1220</td>\n",
       "    </tr>\n",
       "  </tbody>\n",
       "</table>\n",
       "</div>"
      ],
      "text/plain": [
       "                   0\n",
       "Style         0.3196\n",
       "Reliability   0.5584\n",
       "Fuel Economy  0.1220"
      ]
     },
     "execution_count": 6,
     "metadata": {},
     "output_type": "execute_result"
    }
   ],
   "source": [
    "vector,matrix = Eigenvector(criteria_df)\n",
    "new_Vector = Process(vector,matrix).round(4)\n",
    "criteria_rank_df = pd.DataFrame(new_Vector,index = Criterias)\n",
    "criteria_rank_df"
   ]
  },
  {
   "cell_type": "markdown",
   "id": "aae83394-62f9-44c3-b60d-674e68991776",
   "metadata": {},
   "source": [
    "# Now We Can Move On To Our Alternatives"
   ]
  },
  {
   "cell_type": "markdown",
   "id": "9e2b23f5-e0c7-497a-81a4-39adc288840e",
   "metadata": {},
   "source": [
    "PairWise Comparasions"
   ]
  },
  {
   "cell_type": "code",
   "execution_count": 7,
   "id": "8cfe7174-dd88-4e9a-aa06-ed78d3abfad4",
   "metadata": {},
   "outputs": [
    {
     "data": {
      "text/html": [
       "<div>\n",
       "<style scoped>\n",
       "    .dataframe tbody tr th:only-of-type {\n",
       "        vertical-align: middle;\n",
       "    }\n",
       "\n",
       "    .dataframe tbody tr th {\n",
       "        vertical-align: top;\n",
       "    }\n",
       "\n",
       "    .dataframe thead th {\n",
       "        text-align: right;\n",
       "    }\n",
       "</style>\n",
       "<table border=\"1\" class=\"dataframe\">\n",
       "  <thead>\n",
       "    <tr style=\"text-align: right;\">\n",
       "      <th></th>\n",
       "      <th>Civic</th>\n",
       "      <th>Saturn</th>\n",
       "      <th>Escort</th>\n",
       "      <th>Clio</th>\n",
       "    </tr>\n",
       "  </thead>\n",
       "  <tbody>\n",
       "    <tr>\n",
       "      <th>Civic</th>\n",
       "      <td>1</td>\n",
       "      <td>0.25</td>\n",
       "      <td>4</td>\n",
       "      <td>0.166667</td>\n",
       "    </tr>\n",
       "    <tr>\n",
       "      <th>Saturn</th>\n",
       "      <td>4</td>\n",
       "      <td>1</td>\n",
       "      <td>4</td>\n",
       "      <td>0.25</td>\n",
       "    </tr>\n",
       "    <tr>\n",
       "      <th>Escort</th>\n",
       "      <td>0.25</td>\n",
       "      <td>0.25</td>\n",
       "      <td>1</td>\n",
       "      <td>0.2</td>\n",
       "    </tr>\n",
       "    <tr>\n",
       "      <th>Clio</th>\n",
       "      <td>6</td>\n",
       "      <td>4</td>\n",
       "      <td>5</td>\n",
       "      <td>1</td>\n",
       "    </tr>\n",
       "  </tbody>\n",
       "</table>\n",
       "</div>"
      ],
      "text/plain": [
       "       Civic Saturn Escort      Clio\n",
       "Civic      1   0.25      4  0.166667\n",
       "Saturn     4      1      4      0.25\n",
       "Escort  0.25   0.25      1       0.2\n",
       "Clio       6      4      5         1"
      ]
     },
     "execution_count": 7,
     "metadata": {},
     "output_type": "execute_result"
    }
   ],
   "source": [
    "Alternatives = [\"Civic\",\"Saturn\",\"Escort\",\"Clio\"]\n",
    "\n",
    "style_df = pd.DataFrame([],index = Alternatives,columns = Alternatives)\n",
    "style_df.iloc[0,0] = 1\n",
    "style_df.iloc[0,1] = 1/4\n",
    "style_df.iloc[0,2] = 4\n",
    "style_df.iloc[0,3] = 1/6\n",
    "\n",
    "style_df.iloc[1,0] = 4\n",
    "style_df.iloc[1,1] = 1\n",
    "style_df.iloc[1,2] = 4\n",
    "style_df.iloc[1,3] = 1/4\n",
    "\n",
    "style_df.iloc[2,0] = 1/4\n",
    "style_df.iloc[2,1] = 1/4\n",
    "style_df.iloc[2,2] = 1\n",
    "style_df.iloc[2,3] = 1/5\n",
    "\n",
    "style_df.iloc[3,0] = 6\n",
    "style_df.iloc[3,1] = 4\n",
    "style_df.iloc[3,2] = 5\n",
    "style_df.iloc[3,3] = 1\n",
    "style_df"
   ]
  },
  {
   "cell_type": "code",
   "execution_count": 8,
   "id": "296ccf0d-cd0c-4cdd-8888-0cfcfe0d44dc",
   "metadata": {},
   "outputs": [
    {
     "data": {
      "text/html": [
       "<div>\n",
       "<style scoped>\n",
       "    .dataframe tbody tr th:only-of-type {\n",
       "        vertical-align: middle;\n",
       "    }\n",
       "\n",
       "    .dataframe tbody tr th {\n",
       "        vertical-align: top;\n",
       "    }\n",
       "\n",
       "    .dataframe thead th {\n",
       "        text-align: right;\n",
       "    }\n",
       "</style>\n",
       "<table border=\"1\" class=\"dataframe\">\n",
       "  <thead>\n",
       "    <tr style=\"text-align: right;\">\n",
       "      <th></th>\n",
       "      <th>Civic</th>\n",
       "      <th>Saturn</th>\n",
       "      <th>Escort</th>\n",
       "      <th>Clio</th>\n",
       "    </tr>\n",
       "  </thead>\n",
       "  <tbody>\n",
       "    <tr>\n",
       "      <th>Civic</th>\n",
       "      <td>1</td>\n",
       "      <td>2</td>\n",
       "      <td>5</td>\n",
       "      <td>1</td>\n",
       "    </tr>\n",
       "    <tr>\n",
       "      <th>Saturn</th>\n",
       "      <td>0.5</td>\n",
       "      <td>1</td>\n",
       "      <td>3</td>\n",
       "      <td>2</td>\n",
       "    </tr>\n",
       "    <tr>\n",
       "      <th>Escort</th>\n",
       "      <td>0.2</td>\n",
       "      <td>0.333333</td>\n",
       "      <td>1</td>\n",
       "      <td>0.25</td>\n",
       "    </tr>\n",
       "    <tr>\n",
       "      <th>Clio</th>\n",
       "      <td>1</td>\n",
       "      <td>0.5</td>\n",
       "      <td>4</td>\n",
       "      <td>1</td>\n",
       "    </tr>\n",
       "  </tbody>\n",
       "</table>\n",
       "</div>"
      ],
      "text/plain": [
       "       Civic    Saturn Escort  Clio\n",
       "Civic      1         2      5     1\n",
       "Saturn   0.5         1      3     2\n",
       "Escort   0.2  0.333333      1  0.25\n",
       "Clio       1       0.5      4     1"
      ]
     },
     "execution_count": 8,
     "metadata": {},
     "output_type": "execute_result"
    }
   ],
   "source": [
    "relaibility_df = pd.DataFrame([],index = Alternatives,columns = Alternatives)\n",
    "\n",
    "relaibility_df.iloc[0,0] = 1\n",
    "relaibility_df.iloc[0,1] = 2\n",
    "relaibility_df.iloc[0,2] = 5\n",
    "relaibility_df.iloc[0,3] = 1\n",
    "\n",
    "relaibility_df.iloc[1,0] = 1/2\n",
    "relaibility_df.iloc[1,1] = 1\n",
    "relaibility_df.iloc[1,2] = 3\n",
    "relaibility_df.iloc[1,3] = 2\n",
    "\n",
    "relaibility_df.iloc[2,0] = 1/5\n",
    "relaibility_df.iloc[2,1] = 1/3\n",
    "relaibility_df.iloc[2,2] = 1\n",
    "relaibility_df.iloc[2,3] = 1/4\n",
    "\n",
    "relaibility_df.iloc[3,0] = 1\n",
    "relaibility_df.iloc[3,1] = 1/2\n",
    "relaibility_df.iloc[3,2] = 4\n",
    "relaibility_df.iloc[3,3] = 1\n",
    "\n",
    "relaibility_df"
   ]
  },
  {
   "cell_type": "markdown",
   "id": "bed933ad-35b1-44d9-83f2-52daf0cd1cb9",
   "metadata": {},
   "source": [
    "The EigenValues of these pairwase comparisons will give the rank of the alternative in the criteria"
   ]
  },
  {
   "cell_type": "code",
   "execution_count": 9,
   "id": "cf07bab6-4148-4a01-898b-57c343d0a2fd",
   "metadata": {},
   "outputs": [
    {
     "data": {
      "text/html": [
       "<div>\n",
       "<style scoped>\n",
       "    .dataframe tbody tr th:only-of-type {\n",
       "        vertical-align: middle;\n",
       "    }\n",
       "\n",
       "    .dataframe tbody tr th {\n",
       "        vertical-align: top;\n",
       "    }\n",
       "\n",
       "    .dataframe thead th {\n",
       "        text-align: right;\n",
       "    }\n",
       "</style>\n",
       "<table border=\"1\" class=\"dataframe\">\n",
       "  <thead>\n",
       "    <tr style=\"text-align: right;\">\n",
       "      <th></th>\n",
       "      <th>Style Rank</th>\n",
       "    </tr>\n",
       "  </thead>\n",
       "  <tbody>\n",
       "    <tr>\n",
       "      <th>Civic</th>\n",
       "      <td>0.1168</td>\n",
       "    </tr>\n",
       "    <tr>\n",
       "      <th>Saturn</th>\n",
       "      <td>0.2458</td>\n",
       "    </tr>\n",
       "    <tr>\n",
       "      <th>Escort</th>\n",
       "      <td>0.0607</td>\n",
       "    </tr>\n",
       "    <tr>\n",
       "      <th>Clio</th>\n",
       "      <td>0.5766</td>\n",
       "    </tr>\n",
       "  </tbody>\n",
       "</table>\n",
       "</div>"
      ],
      "text/plain": [
       "        Style Rank\n",
       "Civic       0.1168\n",
       "Saturn      0.2458\n",
       "Escort      0.0607\n",
       "Clio        0.5766"
      ]
     },
     "execution_count": 9,
     "metadata": {},
     "output_type": "execute_result"
    }
   ],
   "source": [
    "temp_style,temp_matrix = Eigenvector(style_df)\n",
    "rank_style = Process(temp_style,temp_matrix)\n",
    "rank_style = rank_style.round(4) \n",
    "style_rank = pd.DataFrame(rank_style, index = Alternatives, columns = [\"Style Rank\"])\n",
    "style_rank"
   ]
  },
  {
   "cell_type": "code",
   "execution_count": 10,
   "id": "10524411-1edd-460b-b237-aabfc2aace60",
   "metadata": {},
   "outputs": [
    {
     "data": {
      "text/html": [
       "<div>\n",
       "<style scoped>\n",
       "    .dataframe tbody tr th:only-of-type {\n",
       "        vertical-align: middle;\n",
       "    }\n",
       "\n",
       "    .dataframe tbody tr th {\n",
       "        vertical-align: top;\n",
       "    }\n",
       "\n",
       "    .dataframe thead th {\n",
       "        text-align: right;\n",
       "    }\n",
       "</style>\n",
       "<table border=\"1\" class=\"dataframe\">\n",
       "  <thead>\n",
       "    <tr style=\"text-align: right;\">\n",
       "      <th></th>\n",
       "      <th>Reliability Rank</th>\n",
       "    </tr>\n",
       "  </thead>\n",
       "  <tbody>\n",
       "    <tr>\n",
       "      <th>Civic</th>\n",
       "      <td>0.3788</td>\n",
       "    </tr>\n",
       "    <tr>\n",
       "      <th>Saturn</th>\n",
       "      <td>0.2900</td>\n",
       "    </tr>\n",
       "    <tr>\n",
       "      <th>Escort</th>\n",
       "      <td>0.0742</td>\n",
       "    </tr>\n",
       "    <tr>\n",
       "      <th>Clio</th>\n",
       "      <td>0.2570</td>\n",
       "    </tr>\n",
       "  </tbody>\n",
       "</table>\n",
       "</div>"
      ],
      "text/plain": [
       "        Reliability Rank\n",
       "Civic             0.3788\n",
       "Saturn            0.2900\n",
       "Escort            0.0742\n",
       "Clio              0.2570"
      ]
     },
     "execution_count": 10,
     "metadata": {},
     "output_type": "execute_result"
    }
   ],
   "source": [
    "temp_rely, rely_matrix = Eigenvector(relaibility_df)\n",
    "rank_rely = Process(temp_rely,rely_matrix)\n",
    "rank_rely = rank_rely.round(4)\n",
    "rely_rank = pd.DataFrame(rank_rely, index = Alternatives, columns = [\"Reliability Rank\"])\n",
    "rely_rank"
   ]
  },
  {
   "cell_type": "code",
   "execution_count": 11,
   "id": "d15ac4b5-f3cc-45b1-b9dc-4a0fc2d1c876",
   "metadata": {},
   "outputs": [
    {
     "data": {
      "text/html": [
       "<div>\n",
       "<style scoped>\n",
       "    .dataframe tbody tr th:only-of-type {\n",
       "        vertical-align: middle;\n",
       "    }\n",
       "\n",
       "    .dataframe tbody tr th {\n",
       "        vertical-align: top;\n",
       "    }\n",
       "\n",
       "    .dataframe thead th {\n",
       "        text-align: right;\n",
       "    }\n",
       "</style>\n",
       "<table border=\"1\" class=\"dataframe\">\n",
       "  <thead>\n",
       "    <tr style=\"text-align: right;\">\n",
       "      <th></th>\n",
       "      <th>Fuel Economy</th>\n",
       "    </tr>\n",
       "  </thead>\n",
       "  <tbody>\n",
       "    <tr>\n",
       "      <th>Civic</th>\n",
       "      <td>34</td>\n",
       "    </tr>\n",
       "    <tr>\n",
       "      <th>Saturn</th>\n",
       "      <td>27</td>\n",
       "    </tr>\n",
       "    <tr>\n",
       "      <th>Escort</th>\n",
       "      <td>24</td>\n",
       "    </tr>\n",
       "    <tr>\n",
       "      <th>Clio</th>\n",
       "      <td>28</td>\n",
       "    </tr>\n",
       "  </tbody>\n",
       "</table>\n",
       "</div>"
      ],
      "text/plain": [
       "        Fuel Economy\n",
       "Civic             34\n",
       "Saturn            27\n",
       "Escort            24\n",
       "Clio              28"
      ]
     },
     "execution_count": 11,
     "metadata": {},
     "output_type": "execute_result"
    }
   ],
   "source": [
    "fuel_df = pd.DataFrame([], index = Alternatives)\n",
    "fuel_df[\"Civic\"] = 34\n",
    "fuel_df[\"Saturn\"] = 27\n",
    "fuel_df[\"Escort\"] = 24\n",
    "fuel_df[\"Clio\"] = 28\n",
    "fuel_df = pd.DataFrame(fuel_df.iloc[0,:])\n",
    "fuel_df.rename(columns = {'Civic':'Fuel Economy'}, inplace = True)\n",
    "fuel_df"
   ]
  },
  {
   "cell_type": "markdown",
   "id": "dd49c92c-bc9e-4c8f-aafd-288c46d03a53",
   "metadata": {},
   "source": [
    "To use Fuel we have to normalize its values"
   ]
  },
  {
   "cell_type": "code",
   "execution_count": 12,
   "id": "ffcd9d9a-1107-4327-bda0-ec2a23f1afa7",
   "metadata": {},
   "outputs": [
    {
     "data": {
      "text/html": [
       "<div>\n",
       "<style scoped>\n",
       "    .dataframe tbody tr th:only-of-type {\n",
       "        vertical-align: middle;\n",
       "    }\n",
       "\n",
       "    .dataframe tbody tr th {\n",
       "        vertical-align: top;\n",
       "    }\n",
       "\n",
       "    .dataframe thead th {\n",
       "        text-align: right;\n",
       "    }\n",
       "</style>\n",
       "<table border=\"1\" class=\"dataframe\">\n",
       "  <thead>\n",
       "    <tr style=\"text-align: right;\">\n",
       "      <th></th>\n",
       "      <th>Fuel Economy</th>\n",
       "    </tr>\n",
       "  </thead>\n",
       "  <tbody>\n",
       "    <tr>\n",
       "      <th>Civic</th>\n",
       "      <td>0.300885</td>\n",
       "    </tr>\n",
       "    <tr>\n",
       "      <th>Saturn</th>\n",
       "      <td>0.238938</td>\n",
       "    </tr>\n",
       "    <tr>\n",
       "      <th>Escort</th>\n",
       "      <td>0.212389</td>\n",
       "    </tr>\n",
       "    <tr>\n",
       "      <th>Clio</th>\n",
       "      <td>0.247788</td>\n",
       "    </tr>\n",
       "  </tbody>\n",
       "</table>\n",
       "</div>"
      ],
      "text/plain": [
       "        Fuel Economy\n",
       "Civic       0.300885\n",
       "Saturn      0.238938\n",
       "Escort      0.212389\n",
       "Clio        0.247788"
      ]
     },
     "execution_count": 12,
     "metadata": {},
     "output_type": "execute_result"
    }
   ],
   "source": [
    "sum = fuel_df.sum(axis = 0)\n",
    "normal_fuel_df = fuel_df/sum\n",
    "normal_fuel_df"
   ]
  },
  {
   "cell_type": "markdown",
   "id": "05eb1b6f-5304-4fd1-b325-e4b096b37d39",
   "metadata": {
    "tags": []
   },
   "source": [
    "Now we have pairwase comparions for each Criteria "
   ]
  },
  {
   "cell_type": "code",
   "execution_count": 13,
   "id": "9dbd1a5d-c3d5-422b-b065-1e11d243765e",
   "metadata": {},
   "outputs": [
    {
     "data": {
      "text/html": [
       "<div>\n",
       "<style scoped>\n",
       "    .dataframe tbody tr th:only-of-type {\n",
       "        vertical-align: middle;\n",
       "    }\n",
       "\n",
       "    .dataframe tbody tr th {\n",
       "        vertical-align: top;\n",
       "    }\n",
       "\n",
       "    .dataframe thead th {\n",
       "        text-align: right;\n",
       "    }\n",
       "</style>\n",
       "<table border=\"1\" class=\"dataframe\">\n",
       "  <thead>\n",
       "    <tr style=\"text-align: right;\">\n",
       "      <th></th>\n",
       "      <th>Style</th>\n",
       "      <th>Reliablity</th>\n",
       "      <th>Fuel Economy</th>\n",
       "    </tr>\n",
       "  </thead>\n",
       "  <tbody>\n",
       "    <tr>\n",
       "      <th>Civic</th>\n",
       "      <td>0.1168</td>\n",
       "      <td>0.3788</td>\n",
       "      <td>0.300885</td>\n",
       "    </tr>\n",
       "    <tr>\n",
       "      <th>Saturn</th>\n",
       "      <td>0.2458</td>\n",
       "      <td>0.2900</td>\n",
       "      <td>0.238938</td>\n",
       "    </tr>\n",
       "    <tr>\n",
       "      <th>Escort</th>\n",
       "      <td>0.0607</td>\n",
       "      <td>0.0742</td>\n",
       "      <td>0.212389</td>\n",
       "    </tr>\n",
       "    <tr>\n",
       "      <th>Clio</th>\n",
       "      <td>0.5766</td>\n",
       "      <td>0.2570</td>\n",
       "      <td>0.247788</td>\n",
       "    </tr>\n",
       "  </tbody>\n",
       "</table>\n",
       "</div>"
      ],
      "text/plain": [
       "         Style  Reliablity  Fuel Economy\n",
       "Civic   0.1168      0.3788      0.300885\n",
       "Saturn  0.2458      0.2900      0.238938\n",
       "Escort  0.0607      0.0742      0.212389\n",
       "Clio    0.5766      0.2570      0.247788"
      ]
     },
     "execution_count": 13,
     "metadata": {},
     "output_type": "execute_result"
    }
   ],
   "source": [
    "normal_fuel_df[\"Style\"] = style_rank\n",
    "normal_fuel_df[\"Reliablity\"] = rely_rank\n",
    "\n",
    "result = normal_fuel_df[[\"Style\",\"Reliablity\",\"Fuel Economy\"]]\n",
    "result"
   ]
  },
  {
   "cell_type": "markdown",
   "id": "9cddeecd-1d63-4eb0-afa0-687fcbc39326",
   "metadata": {},
   "source": [
    "# The dot product of the alternatives rank matrix and the criteria weight matrix gives us the result"
   ]
  },
  {
   "cell_type": "code",
   "execution_count": 24,
   "id": "9181cbb5-0b00-4f14-bc15-3f4328a7809c",
   "metadata": {},
   "outputs": [
    {
     "data": {
      "text/html": [
       "<div>\n",
       "<style scoped>\n",
       "    .dataframe tbody tr th:only-of-type {\n",
       "        vertical-align: middle;\n",
       "    }\n",
       "\n",
       "    .dataframe tbody tr th {\n",
       "        vertical-align: top;\n",
       "    }\n",
       "\n",
       "    .dataframe thead th {\n",
       "        text-align: right;\n",
       "    }\n",
       "</style>\n",
       "<table border=\"1\" class=\"dataframe\">\n",
       "  <thead>\n",
       "    <tr style=\"text-align: right;\">\n",
       "      <th></th>\n",
       "      <th>Alternatives</th>\n",
       "    </tr>\n",
       "  </thead>\n",
       "  <tbody>\n",
       "    <tr>\n",
       "      <th>Clio</th>\n",
       "      <td>0.358020</td>\n",
       "    </tr>\n",
       "    <tr>\n",
       "      <th>Civic</th>\n",
       "      <td>0.285559</td>\n",
       "    </tr>\n",
       "    <tr>\n",
       "      <th>Saturn</th>\n",
       "      <td>0.269644</td>\n",
       "    </tr>\n",
       "    <tr>\n",
       "      <th>Escort</th>\n",
       "      <td>0.086745</td>\n",
       "    </tr>\n",
       "  </tbody>\n",
       "</table>\n",
       "</div>"
      ],
      "text/plain": [
       "        Alternatives\n",
       "Clio        0.358020\n",
       "Civic       0.285559\n",
       "Saturn      0.269644\n",
       "Escort      0.086745"
      ]
     },
     "execution_count": 24,
     "metadata": {},
     "output_type": "execute_result"
    }
   ],
   "source": [
    "final = pd.DataFrame(np.dot(result,criteria_rank_df),index = Alternatives, columns = [\"Score\"])\n",
    "final.sort_values(by = \"Score\",ascending = False)"
   ]
  },
  {
   "cell_type": "markdown",
   "id": "a7a1f128-8065-4df5-9fe3-ff18a765a097",
   "metadata": {},
   "source": [
    "# The winner has the higest Score which is the Clio"
   ]
  }
 ],
 "metadata": {
  "kernelspec": {
   "display_name": "Python 3 (ipykernel)",
   "language": "python",
   "name": "python3"
  },
  "language_info": {
   "codemirror_mode": {
    "name": "ipython",
    "version": 3
   },
   "file_extension": ".py",
   "mimetype": "text/x-python",
   "name": "python",
   "nbconvert_exporter": "python",
   "pygments_lexer": "ipython3",
   "version": "3.10.6"
  }
 },
 "nbformat": 4,
 "nbformat_minor": 5
}
